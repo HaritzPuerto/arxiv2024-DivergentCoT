{
 "cells": [
  {
   "cell_type": "code",
   "execution_count": 1,
   "metadata": {},
   "outputs": [
    {
     "name": "stderr",
     "output_type": "stream",
     "text": [
      "2024-06-14 15:12:37.477396: E external/local_xla/xla/stream_executor/cuda/cuda_dnn.cc:9261] Unable to register cuDNN factory: Attempting to register factory for plugin cuDNN when one has already been registered\n",
      "2024-06-14 15:12:37.477459: E external/local_xla/xla/stream_executor/cuda/cuda_fft.cc:607] Unable to register cuFFT factory: Attempting to register factory for plugin cuFFT when one has already been registered\n",
      "2024-06-14 15:12:37.479345: E external/local_xla/xla/stream_executor/cuda/cuda_blas.cc:1515] Unable to register cuBLAS factory: Attempting to register factory for plugin cuBLAS when one has already been registered\n",
      "2024-06-14 15:12:37.487315: I tensorflow/core/platform/cpu_feature_guard.cc:182] This TensorFlow binary is optimized to use available CPU instructions in performance-critical operations.\n",
      "To enable the following instructions: AVX2 FMA, in other operations, rebuild TensorFlow with the appropriate compiler flags.\n",
      "2024-06-14 15:12:38.686669: W tensorflow/compiler/tf2tensorrt/utils/py_utils.cc:38] TF-TRT Warning: Could not find TensorRT\n"
     ]
    }
   ],
   "source": [
    "import json\n",
    "import glob\n",
    "import numpy as np\n",
    "from src.evaluation import StrategyQA_Evaluator"
   ]
  },
  {
   "cell_type": "code",
   "execution_count": 3,
   "metadata": {},
   "outputs": [],
   "source": [
    "strqa = StrategyQA_Evaluator(split='test')"
   ]
  },
  {
   "cell_type": "code",
   "execution_count": 4,
   "metadata": {},
   "outputs": [],
   "source": [
    "with open(\"data/strategyqa/strategyqa_dev_idx.json\") as f:\n",
    "    dev_idx = json.load(f)\n",
    "\n",
    "with open('data/strategyqa/strategyqa_test_idx.json') as f:\n",
    "    test_idx = json.load(f)"
   ]
  },
  {
   "cell_type": "code",
   "execution_count": 72,
   "metadata": {},
   "outputs": [],
   "source": [
    "base_path = \"models/models--llama-2-hf/13B/DCoT/seed_42/checkpoint-24024/test/temp_0.0/StrategyQA/\""
   ]
  },
  {
   "cell_type": "code",
   "execution_count": 73,
   "metadata": {},
   "outputs": [],
   "source": [
    "files = glob.glob(base_path+\"*\")\n",
    "for f in files:\n",
    "    if \"results.json\" not in f:\n",
    "        with open(f) as fp:\n",
    "            outputs = json.load(fp)\n",
    "        test_outputs = np.array(outputs)[test_idx]\n",
    "        with open(f, \"w\") as fp:\n",
    "            json.dump(test_outputs.tolist(), fp, indent=4)"
   ]
  },
  {
   "cell_type": "code",
   "execution_count": 74,
   "metadata": {},
   "outputs": [
    {
     "name": "stdout",
     "output_type": "stream",
     "text": [
      "{'A': {'precision': 0.7631578947368421, 'recall': 0.4915254237288136, 'f1-score': 0.597938144329897, 'support': 177.0}, 'B': {'precision': 0.6086956521739131, 'recall': 0.8383233532934131, 'f1-score': 0.7052896725440807, 'support': 167.0}, 'accuracy': 0.6598837209302325, 'macro avg': {'precision': 0.6859267734553776, 'recall': 0.6649243885111134, 'f1-score': 0.6516139084369889, 'support': 344.0}, 'weighted avg': {'precision': 0.6881718641903039, 'recall': 0.6598837209302325, 'f1-score': 0.6500535664571315, 'support': 344.0}}\n"
     ]
    }
   ],
   "source": [
    "with open(base_path + \"list_preds.json\") as f:\n",
    "    preds = json.load(f)\n",
    "results = strqa.evaluate(test_outputs.tolist())\n",
    "print(results)\n",
    "with open(base_path + \"list_preds.json\", \"w\") as f:\n",
    "    json.dump(results, f)"
   ]
  },
  {
   "cell_type": "code",
   "execution_count": 75,
   "metadata": {},
   "outputs": [
    {
     "data": {
      "text/plain": [
       "{'A': {'precision': 0.7631578947368421,\n",
       "  'recall': 0.4915254237288136,\n",
       "  'f1-score': 0.597938144329897,\n",
       "  'support': 177.0},\n",
       " 'B': {'precision': 0.6086956521739131,\n",
       "  'recall': 0.8383233532934131,\n",
       "  'f1-score': 0.7052896725440807,\n",
       "  'support': 167.0},\n",
       " 'accuracy': 0.6598837209302325,\n",
       " 'macro avg': {'precision': 0.6859267734553776,\n",
       "  'recall': 0.6649243885111134,\n",
       "  'f1-score': 0.6516139084369889,\n",
       "  'support': 344.0},\n",
       " 'weighted avg': {'precision': 0.6881718641903039,\n",
       "  'recall': 0.6598837209302325,\n",
       "  'f1-score': 0.6500535664571315,\n",
       "  'support': 344.0}}"
      ]
     },
     "execution_count": 75,
     "metadata": {},
     "output_type": "execute_result"
    }
   ],
   "source": [
    "results"
   ]
  },
  {
   "cell_type": "code",
   "execution_count": 76,
   "metadata": {},
   "outputs": [],
   "source": [
    "base_path = \"models/models--llama-2-hf/13B/DCoT/seed_42/checkpoint-24024/test/temp_0.7/self_consistency/StrategyQA/\""
   ]
  },
  {
   "cell_type": "code",
   "execution_count": 77,
   "metadata": {},
   "outputs": [],
   "source": [
    "files = glob.glob(base_path+\"*\")\n",
    "for f in files:\n",
    "    if \"results.json\" not in f:\n",
    "        with open(f) as fp:\n",
    "            outputs = json.load(fp)\n",
    "        test_outputs = np.array(outputs)[test_idx]\n",
    "        with open(f, \"w\") as fp:\n",
    "            json.dump(test_outputs.tolist(), fp, indent=4)"
   ]
  },
  {
   "cell_type": "code",
   "execution_count": 78,
   "metadata": {},
   "outputs": [],
   "source": [
    "with open(base_path + \"list_preds.json\") as f:\n",
    "    test_outputs = json.load(f)\n",
    "results = dict()\n",
    "for k in range(1, 6):\n",
    "    list_preds_k = []\n",
    "    for preds in test_outputs:\n",
    "        list_preds_k.append(strqa._most_common(preds[:k]))\n",
    "    results_k = strqa.evaluate(list_preds_k)\n",
    "    results[k] = results_k"
   ]
  },
  {
   "cell_type": "code",
   "execution_count": 79,
   "metadata": {},
   "outputs": [
    {
     "name": "stdout",
     "output_type": "stream",
     "text": [
      "1 0.642349679431641\n",
      "2 0.642349679431641\n",
      "3 0.6409560588665066\n",
      "4 0.6454599447996366\n",
      "5 0.6464728978365701\n"
     ]
    }
   ],
   "source": [
    "for i, vals in results.items():\n",
    "    print(i, vals['macro avg']['f1-score'])"
   ]
  },
  {
   "cell_type": "code",
   "execution_count": 80,
   "metadata": {},
   "outputs": [],
   "source": [
    "with open(base_path + \"list_preds.json\", \"w\") as f:\n",
    "    json.dump(results, f)"
   ]
  },
  {
   "cell_type": "code",
   "execution_count": null,
   "metadata": {},
   "outputs": [],
   "source": []
  }
 ],
 "metadata": {
  "kernelspec": {
   "display_name": "ccot",
   "language": "python",
   "name": "python3"
  },
  "language_info": {
   "codemirror_mode": {
    "name": "ipython",
    "version": 3
   },
   "file_extension": ".py",
   "mimetype": "text/x-python",
   "name": "python",
   "nbconvert_exporter": "python",
   "pygments_lexer": "ipython3",
   "version": "3.9.18"
  }
 },
 "nbformat": 4,
 "nbformat_minor": 2
}
